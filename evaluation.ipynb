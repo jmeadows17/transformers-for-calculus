{
 "cells": [
  {
   "cell_type": "code",
   "execution_count": null,
   "id": "6b529889",
   "metadata": {},
   "outputs": [
    {
     "name": "stderr",
     "output_type": "stream",
     "text": [
      "Could not locate the tokenizer configuration file, will try to use the model config instead.\n",
      "https://huggingface.co/roberta-base/resolve/main/config.json not found in cache or force_download set to True, downloading to C:\\Users\\JCMea\\.cache\\huggingface\\transformers\\tmp_9qyekva\n"
     ]
    },
    {
     "data": {
      "application/vnd.jupyter.widget-view+json": {
       "model_id": "7ef97e68e7f14bd796d25fc99dd37957",
       "version_major": 2,
       "version_minor": 0
      },
      "text/plain": [
       "Downloading:   0%|          | 0.00/481 [00:00<?, ?B/s]"
      ]
     },
     "metadata": {},
     "output_type": "display_data"
    },
    {
     "name": "stderr",
     "output_type": "stream",
     "text": [
      "storing https://huggingface.co/roberta-base/resolve/main/config.json in cache at C:\\Users\\JCMea/.cache\\huggingface\\transformers\\733bade19e5f0ce98e6531021dd5180994bb2f7b8bd7e80c7968805834ba351e.35205c6cfc956461d8515139f0f8dd5d207a2f336c0c3a83b4bc8dca3518e37b\n",
      "creating metadata file for C:\\Users\\JCMea/.cache\\huggingface\\transformers\\733bade19e5f0ce98e6531021dd5180994bb2f7b8bd7e80c7968805834ba351e.35205c6cfc956461d8515139f0f8dd5d207a2f336c0c3a83b4bc8dca3518e37b\n",
      "loading configuration file https://huggingface.co/roberta-base/resolve/main/config.json from cache at C:\\Users\\JCMea/.cache\\huggingface\\transformers\\733bade19e5f0ce98e6531021dd5180994bb2f7b8bd7e80c7968805834ba351e.35205c6cfc956461d8515139f0f8dd5d207a2f336c0c3a83b4bc8dca3518e37b\n",
      "Model config RobertaConfig {\n",
      "  \"_name_or_path\": \"roberta-base\",\n",
      "  \"architectures\": [\n",
      "    \"RobertaForMaskedLM\"\n",
      "  ],\n",
      "  \"attention_probs_dropout_prob\": 0.1,\n",
      "  \"bos_token_id\": 0,\n",
      "  \"classifier_dropout\": null,\n",
      "  \"eos_token_id\": 2,\n",
      "  \"hidden_act\": \"gelu\",\n",
      "  \"hidden_dropout_prob\": 0.1,\n",
      "  \"hidden_size\": 768,\n",
      "  \"initializer_range\": 0.02,\n",
      "  \"intermediate_size\": 3072,\n",
      "  \"layer_norm_eps\": 1e-05,\n",
      "  \"max_position_embeddings\": 514,\n",
      "  \"model_type\": \"roberta\",\n",
      "  \"num_attention_heads\": 12,\n",
      "  \"num_hidden_layers\": 12,\n",
      "  \"pad_token_id\": 1,\n",
      "  \"position_embedding_type\": \"absolute\",\n",
      "  \"transformers_version\": \"4.20.1\",\n",
      "  \"type_vocab_size\": 1,\n",
      "  \"use_cache\": true,\n",
      "  \"vocab_size\": 50265\n",
      "}\n",
      "\n",
      "https://huggingface.co/roberta-base/resolve/main/vocab.json not found in cache or force_download set to True, downloading to C:\\Users\\JCMea\\.cache\\huggingface\\transformers\\tmpt0q2avb2\n"
     ]
    },
    {
     "data": {
      "application/vnd.jupyter.widget-view+json": {
       "model_id": "0c7dcd6993234b9f82bf8407656d2c3f",
       "version_major": 2,
       "version_minor": 0
      },
      "text/plain": [
       "Downloading:   0%|          | 0.00/878k [00:00<?, ?B/s]"
      ]
     },
     "metadata": {},
     "output_type": "display_data"
    },
    {
     "name": "stderr",
     "output_type": "stream",
     "text": [
      "storing https://huggingface.co/roberta-base/resolve/main/vocab.json in cache at C:\\Users\\JCMea/.cache\\huggingface\\transformers\\d3ccdbfeb9aaa747ef20432d4976c32ee3fa69663b379deb253ccfce2bb1fdc5.d67d6b367eb24ab43b08ad55e014cf254076934f71d832bbab9ad35644a375ab\n",
      "creating metadata file for C:\\Users\\JCMea/.cache\\huggingface\\transformers\\d3ccdbfeb9aaa747ef20432d4976c32ee3fa69663b379deb253ccfce2bb1fdc5.d67d6b367eb24ab43b08ad55e014cf254076934f71d832bbab9ad35644a375ab\n",
      "https://huggingface.co/roberta-base/resolve/main/merges.txt not found in cache or force_download set to True, downloading to C:\\Users\\JCMea\\.cache\\huggingface\\transformers\\tmppfzgl2p3\n"
     ]
    },
    {
     "data": {
      "application/vnd.jupyter.widget-view+json": {
       "model_id": "997b11357bfc48989ff8f741e0c4bd0e",
       "version_major": 2,
       "version_minor": 0
      },
      "text/plain": [
       "Downloading:   0%|          | 0.00/446k [00:00<?, ?B/s]"
      ]
     },
     "metadata": {},
     "output_type": "display_data"
    },
    {
     "name": "stderr",
     "output_type": "stream",
     "text": [
      "storing https://huggingface.co/roberta-base/resolve/main/merges.txt in cache at C:\\Users\\JCMea/.cache\\huggingface\\transformers\\cafdecc90fcab17011e12ac813dd574b4b3fea39da6dd817813efa010262ff3f.5d12962c5ee615a4c803841266e9c3be9a691a924f72d395d3a6c6c81157788b\n",
      "creating metadata file for C:\\Users\\JCMea/.cache\\huggingface\\transformers\\cafdecc90fcab17011e12ac813dd574b4b3fea39da6dd817813efa010262ff3f.5d12962c5ee615a4c803841266e9c3be9a691a924f72d395d3a6c6c81157788b\n",
      "https://huggingface.co/roberta-base/resolve/main/tokenizer.json not found in cache or force_download set to True, downloading to C:\\Users\\JCMea\\.cache\\huggingface\\transformers\\tmp47kj8mo6\n"
     ]
    },
    {
     "data": {
      "application/vnd.jupyter.widget-view+json": {
       "model_id": "a030ca4f91e8404388421b476eb18f54",
       "version_major": 2,
       "version_minor": 0
      },
      "text/plain": [
       "Downloading:   0%|          | 0.00/1.29M [00:00<?, ?B/s]"
      ]
     },
     "metadata": {},
     "output_type": "display_data"
    },
    {
     "name": "stderr",
     "output_type": "stream",
     "text": [
      "storing https://huggingface.co/roberta-base/resolve/main/tokenizer.json in cache at C:\\Users\\JCMea/.cache\\huggingface\\transformers\\d53fc0fa09b8342651efd4073d75e19617b3e51287c2a535becda5808a8db287.fc9576039592f026ad76a1c231b89aee8668488c671dfbe6616bab2ed298d730\n",
      "creating metadata file for C:\\Users\\JCMea/.cache\\huggingface\\transformers\\d53fc0fa09b8342651efd4073d75e19617b3e51287c2a535becda5808a8db287.fc9576039592f026ad76a1c231b89aee8668488c671dfbe6616bab2ed298d730\n",
      "loading file https://huggingface.co/roberta-base/resolve/main/vocab.json from cache at C:\\Users\\JCMea/.cache\\huggingface\\transformers\\d3ccdbfeb9aaa747ef20432d4976c32ee3fa69663b379deb253ccfce2bb1fdc5.d67d6b367eb24ab43b08ad55e014cf254076934f71d832bbab9ad35644a375ab\n",
      "loading file https://huggingface.co/roberta-base/resolve/main/merges.txt from cache at C:\\Users\\JCMea/.cache\\huggingface\\transformers\\cafdecc90fcab17011e12ac813dd574b4b3fea39da6dd817813efa010262ff3f.5d12962c5ee615a4c803841266e9c3be9a691a924f72d395d3a6c6c81157788b\n",
      "loading file https://huggingface.co/roberta-base/resolve/main/tokenizer.json from cache at C:\\Users\\JCMea/.cache\\huggingface\\transformers\\d53fc0fa09b8342651efd4073d75e19617b3e51287c2a535becda5808a8db287.fc9576039592f026ad76a1c231b89aee8668488c671dfbe6616bab2ed298d730\n",
      "loading file https://huggingface.co/roberta-base/resolve/main/added_tokens.json from cache at None\n",
      "loading file https://huggingface.co/roberta-base/resolve/main/special_tokens_map.json from cache at None\n",
      "loading file https://huggingface.co/roberta-base/resolve/main/tokenizer_config.json from cache at None\n",
      "loading configuration file https://huggingface.co/roberta-base/resolve/main/config.json from cache at C:\\Users\\JCMea/.cache\\huggingface\\transformers\\733bade19e5f0ce98e6531021dd5180994bb2f7b8bd7e80c7968805834ba351e.35205c6cfc956461d8515139f0f8dd5d207a2f336c0c3a83b4bc8dca3518e37b\n",
      "Model config RobertaConfig {\n",
      "  \"_name_or_path\": \"roberta-base\",\n",
      "  \"architectures\": [\n",
      "    \"RobertaForMaskedLM\"\n",
      "  ],\n",
      "  \"attention_probs_dropout_prob\": 0.1,\n",
      "  \"bos_token_id\": 0,\n",
      "  \"classifier_dropout\": null,\n",
      "  \"eos_token_id\": 2,\n",
      "  \"hidden_act\": \"gelu\",\n",
      "  \"hidden_dropout_prob\": 0.1,\n",
      "  \"hidden_size\": 768,\n",
      "  \"initializer_range\": 0.02,\n",
      "  \"intermediate_size\": 3072,\n",
      "  \"layer_norm_eps\": 1e-05,\n",
      "  \"max_position_embeddings\": 514,\n",
      "  \"model_type\": \"roberta\",\n",
      "  \"num_attention_heads\": 12,\n",
      "  \"num_hidden_layers\": 12,\n",
      "  \"pad_token_id\": 1,\n",
      "  \"position_embedding_type\": \"absolute\",\n",
      "  \"transformers_version\": \"4.20.1\",\n",
      "  \"type_vocab_size\": 1,\n",
      "  \"use_cache\": true,\n",
      "  \"vocab_size\": 50265\n",
      "}\n",
      "\n",
      "Loading Dataset: 100%|██████████████████████████████████████████████████████████| 2097/2097 [00:00<00:00, 67829.01it/s]\n"
     ]
    },
    {
     "name": "stdout",
     "output_type": "stream",
     "text": [
      "Data examples [{'text': \"['premise', 'h{(v)} = \\\\log{(v)}'] [SEP] ['differentiate', 1, 'v'] [SEP] \\\\frac{d}{d v} h{(v)} = \\\\frac{d}{d v} \\\\log{(v)}\", 'label': 1}, {'text': \"['premise', 'h{(v)} = \\\\log{(v)}'] [SEP] ['differentiate', 1, 'v'] [SEP] \\\\int h{(v)}\\\\, dv = \\\\int \\\\log{(v)}\\\\, dv\", 'label': 0}, {'text': \"['premise', 'T{(l)} = \\\\cos{(l)}'] [SEP] ['divide', 1, '\\\\cos{(l)}'] [SEP] \\\\frac{T{(l)}}{\\\\cos{(l)}} = 1\", 'label': 1}, {'text': \"['premise', 'T{(l)} = \\\\cos{(l)}'] [SEP] ['divide', 1, '\\\\cos{(l)}'] [SEP] T^{2}{(l)} = T{(l)} \\\\cos{(l)}\", 'label': 0}]\n"
     ]
    },
    {
     "data": {
      "application/vnd.jupyter.widget-view+json": {
       "model_id": "16544b1c8424489a8a684231cf522646",
       "version_major": 2,
       "version_minor": 0
      },
      "text/plain": [
       "  0%|          | 0/1 [00:00<?, ?ba/s]"
      ]
     },
     "metadata": {},
     "output_type": "display_data"
    },
    {
     "data": {
      "application/vnd.jupyter.widget-view+json": {
       "model_id": "90d61e87925c44a68fe0a5746eb0c150",
       "version_major": 2,
       "version_minor": 0
      },
      "text/plain": [
       "  0%|          | 0/5 [00:00<?, ?ba/s]"
      ]
     },
     "metadata": {},
     "output_type": "display_data"
    },
    {
     "name": "stderr",
     "output_type": "stream",
     "text": [
      "loading configuration file D:\\PhD_on_D\\Projects\\Wikipedia_Derivations\\Project 5\\Classification\\models\\NES_steps=2.json_roberta-base\\config.json\n",
      "Model config RobertaConfig {\n",
      "  \"_name_or_path\": \"D:\\\\PhD_on_D\\\\Projects\\\\Wikipedia_Derivations\\\\Project 5\\\\Classification\\\\models\\\\NES_steps=2.json_roberta-base\",\n",
      "  \"architectures\": [\n",
      "    \"RobertaForSequenceClassification\"\n",
      "  ],\n",
      "  \"attention_probs_dropout_prob\": 0.1,\n",
      "  \"bos_token_id\": 0,\n",
      "  \"classifier_dropout\": null,\n",
      "  \"eos_token_id\": 2,\n",
      "  \"hidden_act\": \"gelu\",\n",
      "  \"hidden_dropout_prob\": 0.1,\n",
      "  \"hidden_size\": 768,\n",
      "  \"initializer_range\": 0.02,\n",
      "  \"intermediate_size\": 3072,\n",
      "  \"layer_norm_eps\": 1e-05,\n",
      "  \"max_position_embeddings\": 514,\n",
      "  \"model_type\": \"roberta\",\n",
      "  \"num_attention_heads\": 12,\n",
      "  \"num_hidden_layers\": 12,\n",
      "  \"pad_token_id\": 1,\n",
      "  \"position_embedding_type\": \"absolute\",\n",
      "  \"problem_type\": \"single_label_classification\",\n",
      "  \"torch_dtype\": \"float32\",\n",
      "  \"transformers_version\": \"4.20.1\",\n",
      "  \"type_vocab_size\": 1,\n",
      "  \"use_cache\": true,\n",
      "  \"vocab_size\": 50265\n",
      "}\n",
      "\n",
      "loading weights file D:\\PhD_on_D\\Projects\\Wikipedia_Derivations\\Project 5\\Classification\\models\\NES_steps=2.json_roberta-base\\pytorch_model.bin\n",
      "All model checkpoint weights were used when initializing RobertaForSequenceClassification.\n",
      "\n",
      "All the weights of RobertaForSequenceClassification were initialized from the model checkpoint at D:\\PhD_on_D\\Projects\\Wikipedia_Derivations\\Project 5\\Classification\\models\\NES_steps=2.json_roberta-base.\n",
      "If your task is similar to the task the model of the checkpoint was trained on, you can already use RobertaForSequenceClassification for predictions without further training.\n",
      "PyTorch: setting up devices\n",
      "The default value for the training argument `--report_to` will change in v5 (from all installed integrations to none). In v5, you will need to use `--report_to all` to get the same behavior as now. You should start updating your code and make this info disappear :-).\n",
      "The following columns in the evaluation set don't have a corresponding argument in `RobertaForSequenceClassification.forward` and have been ignored: text. If text are not expected by `RobertaForSequenceClassification.forward`,  you can safely ignore this message.\n",
      "***** Running Evaluation *****\n",
      "  Num examples = 4153\n",
      "  Batch size = 8\n"
     ]
    },
    {
     "data": {
      "text/html": [
       "\n",
       "    <div>\n",
       "      \n",
       "      <progress value='305' max='520' style='width:300px; height:20px; vertical-align: middle;'></progress>\n",
       "      [305/520 02:03 < 01:27, 2.47 it/s]\n",
       "    </div>\n",
       "    "
      ],
      "text/plain": [
       "<IPython.core.display.HTML object>"
      ]
     },
     "metadata": {},
     "output_type": "display_data"
    }
   ],
   "source": [
    "import json\n",
    "import os\n",
    "import argparse\n",
    "import torch\n",
    "import numpy as np\n",
    "from tqdm import tqdm\n",
    "import evaluate\n",
    "from datasets import load_dataset, Dataset\n",
    "from transformers import AutoTokenizer, AutoConfig, AutoModelForSequenceClassification, TrainingArguments, Trainer\n",
    "    \n",
    "device = \"cuda:0\" if torch.cuda.is_available() else \"cpu\"    \n",
    "\n",
    "class Experiment:\n",
    "\n",
    "    def __init__(self, learning_rate, model, epochs, batch_size, neg, dataset_path):\n",
    "        self.model_name = model\n",
    "        self.dataset_path = dataset_path\n",
    "        self.learning_rate = learning_rate\n",
    "        self.tokenizer = AutoTokenizer.from_pretrained(\"roberta-base\")# MANUALLY ENTER THE TOKENIZER NAME\n",
    "        self.dataset = self.process_dataset(dataset_path, neg)\n",
    "        self.tokenized_datasets = self.dataset.map(self.tokenize_function, batched=True)\n",
    "        self.model = AutoModelForSequenceClassification.from_pretrained(model, num_labels=2).to(device)\n",
    "        self.metric = evaluate.load(\"glue\", \"mrpc\")\n",
    "        self.training_args = TrainingArguments(\n",
    "                output_dir= os.getcwd() + \"\\\\output\",\n",
    "                logging_steps = 500,\n",
    "                evaluation_strategy=\"steps\",\n",
    "                eval_steps = 500,\n",
    "                num_train_epochs = epochs,\n",
    "                learning_rate = learning_rate,\n",
    "                per_device_train_batch_size = batch_size\n",
    "                )\n",
    "\n",
    "    def process_dataset(self, dataset_path, neg):\n",
    "        #convert dataset into json for dataset loader\n",
    "        d_file = open(dataset_path, 'r')\n",
    "        d_json = json.load(d_file)\n",
    "        formatted_examples = []\n",
    "        for example in tqdm(d_json, desc=\"Loading Dataset\"):\n",
    "            #create an entry for each positive example\n",
    "            positive_ids = list(np.array(example[\"positive_idxs\"]) - 1)\n",
    "            candidate = [example[\"derivation\"][equation_id][1] for equation_id in positive_ids]\n",
    "            context = (str(example['derivation'][:-1]) + ' [SEP] ' + str(example['derivation'][-1][0])).replace('[[','[').replace(']]',']').replace('\\\\\\\\','\\\\')\n",
    "            input_text = context + \" [SEP] \" + \" \".join(candidate)\n",
    "            formatted_examples.append({\"text\": input_text, \"label\": 1})\n",
    "            #create an entry for each negative example\n",
    "            count_neg = 0\n",
    "            for negative in example[\"negatives\"]:\n",
    "                if count_neg == neg:\n",
    "                    break\n",
    "                input_text = context + \" [SEP] \" + negative\n",
    "                formatted_examples.append({\"text\": input_text, 'label': 0})\n",
    "                count_neg += 1\n",
    "        print(\"Data examples\", formatted_examples[:4])\n",
    "        #split randomly between train, dev, and test set\n",
    "        dataset = Dataset.from_list(formatted_examples)\n",
    "        dataset_split = dataset.train_test_split(test_size=0.99)\n",
    "        return dataset_split\n",
    "\n",
    "    def tokenize_function(self, examples):\n",
    "        return self.tokenizer(examples[\"text\"], padding=\"max_length\", truncation=True)\n",
    "\n",
    "    def compute_metrics(self, eval_pred):\n",
    "        logits, labels = eval_pred\n",
    "        predictions = np.argmax(logits, axis=-1)\n",
    "        majority_class_preds = [1 for pred in predictions]\n",
    "        majority_baseline_score = self.metric.compute(predictions=majority_class_preds, references=labels)\n",
    "        print(\"majority_class_baseline:\", majority_baseline_score)\n",
    "        score = self.metric.compute(predictions=predictions, references=labels)\n",
    "        print(score)\n",
    "        return score\n",
    "\n",
    "    def train_and_eval(self):\n",
    "        trainer = Trainer(\n",
    "            model = self.model,\n",
    "            args = self.training_args,\n",
    "            train_dataset = self.tokenized_datasets[\"train\"],\n",
    "            eval_dataset = self.tokenized_datasets[\"test\"],\n",
    "            compute_metrics = self.compute_metrics\n",
    "        )\n",
    "        trainer.evaluate()\n",
    "\n",
    "if __name__ == '__main__':\n",
    "    \n",
    "    model = os.getcwd() + \"\\\\models\\\\NES_steps=2.json_roberta-base\"\n",
    "    data_path = os.getcwd() + \"\\\\data\\\\EVAL_NES_steps=2.json\"\n",
    "    \n",
    "    \n",
    "    #data_path = os.getcwd() + \"\\\\data\\\\EVAL_NES_steps=3.json\"\n",
    "    #data_path = os.getcwd() + \"\\\\data\\\\NES_VAR_RE_steps=3.json\"\n",
    "    #data_path = os.getcwd() + \"\\\\data\\\\NES_EXPR_EXC_steps=3.json\"\n",
    "    #data_path = os.getcwd() + \"\\\\data\\\\NES_OP_SWAP_steps=3.json\"\n",
    "    \n",
    "    #data_path = os.getcwd() + \"\\\\data\\\\EVAL_NES_steps=4.json\"\n",
    "    #data_path = os.getcwd() + \"\\\\data\\\\NES_VAR_RE_steps=4.json\"\n",
    "    #data_path = os.getcwd() + \"\\\\data\\\\NES_EXPR_EXC_steps=4.json\"\n",
    "    #data_path = os.getcwd() + \"\\\\data\\\\NES_OP_SWAP_steps=4.json\"\n",
    "    \n",
    "    torch.backends.cudnn.deterministic = True \n",
    "    seed = 42\n",
    "    np.random.seed(seed)\n",
    "    torch.manual_seed(seed)\n",
    "    if torch.cuda.is_available:\n",
    "        torch.cuda.manual_seed_all(seed)\n",
    "    experiment = Experiment(\n",
    "            learning_rate = 5e-5,\n",
    "            batch_size = 8, \n",
    "            neg = 1, \n",
    "            epochs = 1, \n",
    "            model = model, \n",
    "            dataset_path = data_path\n",
    "            )\n",
    "    experiment.train_and_eval()\n",
    "                \n"
   ]
  },
  {
   "cell_type": "code",
   "execution_count": null,
   "id": "f10a866c",
   "metadata": {},
   "outputs": [],
   "source": []
  },
  {
   "cell_type": "code",
   "execution_count": null,
   "id": "c6df9715",
   "metadata": {},
   "outputs": [],
   "source": []
  }
 ],
 "metadata": {
  "kernelspec": {
   "display_name": "Python 3 (ipykernel)",
   "language": "python",
   "name": "python3"
  },
  "language_info": {
   "codemirror_mode": {
    "name": "ipython",
    "version": 3
   },
   "file_extension": ".py",
   "mimetype": "text/x-python",
   "name": "python",
   "nbconvert_exporter": "python",
   "pygments_lexer": "ipython3",
   "version": "3.9.12"
  }
 },
 "nbformat": 4,
 "nbformat_minor": 5
}
