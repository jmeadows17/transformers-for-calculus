{
 "cells": [
  {
   "cell_type": "code",
   "execution_count": null,
   "id": "191e695d",
   "metadata": {},
   "outputs": [],
   "source": [
    "%reset\n",
    "from sympy import init_printing\n",
    "from tqdm.auto import tqdm\n",
    "import sympy as sp\n",
    "import pandas as pd\n",
    "import random\n",
    "import string\n",
    "import traceback\n",
    "from func_timeout import func_set_timeout, FunctionTimedOut\n",
    "init_printing()"
   ]
  },
  {
   "cell_type": "markdown",
   "id": "c419f375",
   "metadata": {},
   "source": [
    "**Vocabulary**"
   ]
  },
  {
   "cell_type": "code",
   "execution_count": null,
   "id": "02939736",
   "metadata": {},
   "outputs": [],
   "source": [
    "symbol = lambda x: sp.Symbol(x, commutative = True)"
   ]
  },
  {
   "cell_type": "code",
   "execution_count": null,
   "id": "44bc7d82",
   "metadata": {},
   "outputs": [],
   "source": [
    "identifiers = [i for i in list(string.ascii_lowercase + string.ascii_uppercase) if i not in ['i','e','d','O']]"
   ]
  },
  {
   "cell_type": "code",
   "execution_count": null,
   "id": "3a167bc2",
   "metadata": {},
   "outputs": [],
   "source": [
    "symbols = [symbol(i) for i in identifiers]"
   ]
  },
  {
   "cell_type": "markdown",
   "id": "8fd32625",
   "metadata": {},
   "source": [
    "**Rules**"
   ]
  },
  {
   "cell_type": "code",
   "execution_count": null,
   "id": "40369ca5",
   "metadata": {},
   "outputs": [],
   "source": [
    "def add(x, y):\n",
    "    \n",
    "    if type(x) == sp.Equality:\n",
    "        return sp.Eq(x.args[0] + y, x.args[1] + y)\n",
    "    \n",
    "    else:\n",
    "        return x + y"
   ]
  },
  {
   "cell_type": "code",
   "execution_count": null,
   "id": "6654e012",
   "metadata": {},
   "outputs": [],
   "source": [
    "add(symbols[0], symbols[1])"
   ]
  },
  {
   "cell_type": "code",
   "execution_count": null,
   "id": "f12c15d4",
   "metadata": {},
   "outputs": [],
   "source": [
    "def minus(x, y):\n",
    "    \n",
    "    if type(x) == sp.Equality:\n",
    "        return sp.Eq(x.args[0] - y, x.args[1] - y)\n",
    "    \n",
    "    else:\n",
    "        return x - y"
   ]
  },
  {
   "cell_type": "code",
   "execution_count": null,
   "id": "c9ae1b1e",
   "metadata": {},
   "outputs": [],
   "source": [
    "def times(x, y):\n",
    "    \n",
    "    if type(x) == sp.Equality:\n",
    "        return sp.Eq(x.args[0]*y, x.args[1]*y)\n",
    "    \n",
    "    else:\n",
    "        return x*y"
   ]
  },
  {
   "cell_type": "code",
   "execution_count": null,
   "id": "c53d43ab",
   "metadata": {},
   "outputs": [],
   "source": [
    "def power(x, y):\n",
    "    \n",
    "    if type(x) == sp.Equality:\n",
    "        return sp.Eq(x.args[0]**y, x.args[1]**y)\n",
    "    \n",
    "    else:\n",
    "        return x**y"
   ]
  },
  {
   "cell_type": "code",
   "execution_count": null,
   "id": "289b9b6c",
   "metadata": {},
   "outputs": [],
   "source": [
    "def divide(x, y):\n",
    "    \n",
    "    if type(x) == sp.Equality:\n",
    "        return sp.Eq(x.args[0]/y, x.args[1]/y)\n",
    "    \n",
    "    else:\n",
    "        return x/y"
   ]
  },
  {
   "cell_type": "code",
   "execution_count": null,
   "id": "9b56f667",
   "metadata": {},
   "outputs": [],
   "source": [
    "def differentiate(x, y):\n",
    "    \n",
    "    if type(x) == sp.Equality:\n",
    "        return sp.Eq(sp.diff(x.args[0], y, evaluate=False), sp.diff(x.args[1], y, evaluate=False))\n",
    "    \n",
    "    else:\n",
    "        y = random.choice(list(x.free_symbols))\n",
    "        return sp.diff(x, y, evaluate = False)"
   ]
  },
  {
   "cell_type": "code",
   "execution_count": null,
   "id": "3052c40a",
   "metadata": {},
   "outputs": [],
   "source": [
    "def integrate(x, y):\n",
    "    \n",
    "    if type(x) == sp.Equality:\n",
    "        return sp.Eq(sp.Integral(x.args[0], y), sp.Integral(x.args[1], y))\n",
    "    \n",
    "    else:\n",
    "        y = random.choice(list(x.free_symbols))\n",
    "        return sp.Integral(x, y)"
   ]
  },
  {
   "cell_type": "code",
   "execution_count": null,
   "id": "95866b3c",
   "metadata": {},
   "outputs": [],
   "source": [
    "def evaluate_integrals(x):\n",
    "    # assumes derivation D is a global list of equations\n",
    "    # D_local is a local copy of D which is edited within this function\n",
    "    # assumes a list of symbols\n",
    "    # does not integrate terms containing DOUBLE INTEGRALS or higher\n",
    "    \n",
    "    if not contains_double_integral(x):\n",
    "    \n",
    "        D_local = [i[0] for i in D.copy()]\n",
    "\n",
    "        used_symbols = []\n",
    "        for eq in D_local:\n",
    "            used_symbols.extend(list(eq.free_symbols))\n",
    "\n",
    "        integral_constants = [i for i in symbols if i not in used_symbols]\n",
    "\n",
    "        if type(x) == sp.Integral:\n",
    "            return x.doit() + random.choice(integral_constants)\n",
    "\n",
    "        elif type(x) == sp.Equality:\n",
    "            elems = get_equation_elements(x)\n",
    "\n",
    "            integrals = [i for i in elems if type(i) == sp.Integral]\n",
    "\n",
    "            subs = [(i, i.doit() + random.choice(integral_constants)) if str(sp.simplify(i)) != str(sp.simplify(i.doit())) else (i, i) for i in integrals]\n",
    "\n",
    "            for i in subs:\n",
    "                x = x.subs(i[0], i[1])\n",
    "\n",
    "            return x\n",
    "\n",
    "        else:\n",
    "            return x\n",
    "        \n",
    "    else:\n",
    "        return x\n",
    "    \n",
    "    # delete elses"
   ]
  },
  {
   "cell_type": "code",
   "execution_count": null,
   "id": "c579835e",
   "metadata": {},
   "outputs": [],
   "source": [
    "def evaluate_derivatives(x):\n",
    "    \n",
    "    if type(x) == sp.Derivative:\n",
    "        return x.doit()\n",
    "    \n",
    "    elif type(x) == sp.Equality:\n",
    "        elems = get_equation_elements(x)\n",
    "        \n",
    "        derivatives = [i for i in elems if (type(i) == sp.Derivative) and ('\\int' not in sp.latex(i))]\n",
    "        \n",
    "        subs = [(i, i.doit()) for i in derivatives]\n",
    "        \n",
    "        for i in subs:\n",
    "            x = x.subs(i[0], i[1])\n",
    "            \n",
    "        return x\n",
    "    \n",
    "    else:\n",
    "        return x"
   ]
  },
  {
   "cell_type": "code",
   "execution_count": null,
   "id": "6958382c",
   "metadata": {},
   "outputs": [],
   "source": [
    "def cos(x):\n",
    "    \n",
    "    if type(x) == sp.Equality:\n",
    "        return sp.Eq(sp.cos(x.args[0]), sp.cos(x.args[1]))\n",
    "    \n",
    "    else:\n",
    "        return sp.cos(x)"
   ]
  },
  {
   "cell_type": "code",
   "execution_count": null,
   "id": "b3abad7c",
   "metadata": {},
   "outputs": [],
   "source": [
    "def sin(x):\n",
    "    \n",
    "    if type(x) == sp.Equality:\n",
    "        return sp.Eq(sp.sin(x.args[0]), sp.sin(x.args[1]))\n",
    "    \n",
    "    else:\n",
    "        return sp.sin(x)"
   ]
  },
  {
   "cell_type": "code",
   "execution_count": null,
   "id": "90c7f515",
   "metadata": {},
   "outputs": [],
   "source": [
    "def exp(x):\n",
    "    \n",
    "    if type(x) == sp.Equality:\n",
    "        return sp.Eq(sp.exp(x.args[0]), sp.exp(x.args[1]))\n",
    "    \n",
    "    else:\n",
    "        return sp.exp(x)"
   ]
  },
  {
   "cell_type": "code",
   "execution_count": null,
   "id": "25168b79",
   "metadata": {},
   "outputs": [],
   "source": [
    "def log(x):\n",
    "    \n",
    "    if type(x) == sp.Equality:\n",
    "        return sp.Eq(sp.log(x.args[0]), sp.log(x.args[1]))\n",
    "    \n",
    "    else:\n",
    "        return sp.log(x)"
   ]
  },
  {
   "cell_type": "code",
   "execution_count": null,
   "id": "71564a42",
   "metadata": {},
   "outputs": [],
   "source": [
    "def expand(x):\n",
    "    return sp.expand(x)"
   ]
  },
  {
   "cell_type": "code",
   "execution_count": null,
   "id": "64c45bdd",
   "metadata": {},
   "outputs": [],
   "source": [
    "def substitute_LHS_for_RHS(eq_1, eq_2):\n",
    "    return eq_1.subs(eq_2.args[0], eq_2.args[1])"
   ]
  },
  {
   "cell_type": "code",
   "execution_count": null,
   "id": "93defe8d",
   "metadata": {},
   "outputs": [],
   "source": [
    "def substitute_RHS_for_LHS(eq_1, eq_2):\n",
    "    return eq_1.subs(eq_2.args[1], eq_2.args[0])"
   ]
  },
  {
   "cell_type": "code",
   "execution_count": null,
   "id": "01608737",
   "metadata": {},
   "outputs": [],
   "source": [
    "def get_premise(symbols):\n",
    "    \n",
    "    rules_1 = [cos, sin, exp, log]\n",
    "    rules_2 = [add, minus, times, power, divide, differentiate, integrate]\n",
    "    \n",
    "    arity = random.choice([1,2])\n",
    "\n",
    "    if arity == 1:\n",
    "        rule = random.choice(rules_1)\n",
    "        sym = random.choice(symbols)\n",
    "        RHS = rule(sym)\n",
    "        LHS = random.choice([i for i in symbols if i != sym])\n",
    "\n",
    "    elif arity == 2:\n",
    "        rule = random.choice([i for i in rules_2 if i not in [differentiate, integrate]])\n",
    "        sym_1 = random.choice(symbols)\n",
    "        sym_2 = random.choice([i for i in symbols if i != sym_1])\n",
    "        RHS = rule(sym_1, sym_2)\n",
    "        LHS = random.choice([i for i in symbols if i not in [sym_1, sym_2]])\n",
    "        \n",
    "\n",
    "    # make RHS more complex\n",
    "    complexity = random.choice(range(2))\n",
    "\n",
    "    for i in range(complexity):\n",
    "        \n",
    "        arity = random.choice([1,2])\n",
    "        \n",
    "        if arity == 1:\n",
    "            rule = random.choice(rules_1)\n",
    "            RHS = rule(RHS)\n",
    "            \n",
    "        elif arity == 2:\n",
    "            rule = random.choice(rules_2)\n",
    "            sym = random.choice(symbols)\n",
    "            \n",
    "            RHS = rule(RHS, sym)\n",
    "            \n",
    "    LHS = sp.Function(LHS)(*tuple(RHS.free_symbols))\n",
    "\n",
    "    eq = sp.Eq(LHS, RHS)\n",
    "    \n",
    "    return eq"
   ]
  },
  {
   "cell_type": "code",
   "execution_count": null,
   "id": "698e22c6",
   "metadata": {},
   "outputs": [],
   "source": [
    "def renaming_premise(symbols):\n",
    "    \n",
    "    while True:\n",
    "        elems = []\n",
    "        for eq, _ in D:\n",
    "            elems.extend(get_equation_elements(eq))\n",
    "\n",
    "        elems = list(dict.fromkeys(elems))\n",
    "\n",
    "        # more than one free symbol in RHS\n",
    "        elems = [i for i in elems if len(list(i.free_symbols)) > 0 and len(str(i)) > 1]\n",
    "\n",
    "        RHS = random.choice(elems)\n",
    "\n",
    "        LHS = sp.Function(random.choice([i for i in symbols if i not in RHS.free_symbols]))(*tuple(RHS.free_symbols))\n",
    "        \n",
    "        if len(str(type(RHS))) > 1 and str(LHS) not in str(D):\n",
    "            break\n",
    "\n",
    "    return sp.Eq(LHS, RHS)"
   ]
  },
  {
   "cell_type": "code",
   "execution_count": null,
   "id": "745f1252",
   "metadata": {},
   "outputs": [],
   "source": [
    "def get_equation_elements(eq):\n",
    "\n",
    "    args = list(eq.args)\n",
    "\n",
    "    while True:\n",
    "\n",
    "        old_length = len(args)\n",
    "\n",
    "        for i in args:\n",
    "            args.extend(i.args)\n",
    "\n",
    "        args = list(dict.fromkeys(args))\n",
    "\n",
    "        new_length = len(args)\n",
    "\n",
    "        if new_length == old_length:\n",
    "            break\n",
    "            \n",
    "    return [i for i in args if type(i) != sp.Tuple]"
   ]
  },
  {
   "cell_type": "code",
   "execution_count": null,
   "id": "e9c1f94b",
   "metadata": {},
   "outputs": [],
   "source": [
    "contains_double_integral = lambda eq: True if True in ['iint' in sp.latex(i) for i in get_equation_elements(eq)] else False"
   ]
  },
  {
   "cell_type": "code",
   "execution_count": null,
   "id": "cfa18b20",
   "metadata": {},
   "outputs": [],
   "source": [
    "def pref_eqs(D, p):\n",
    "    # makes the last equation p times more likely\n",
    "    # equation n-i is p-i times more likely\n",
    "\n",
    "    out = []\n",
    "\n",
    "    new_D = D.copy()[-p:]\n",
    "    new_D.reverse()\n",
    "    for i in range(len(new_D)):\n",
    "        if p-1 > i:\n",
    "            out.extend([new_D[i]]*(p-i-1)**3)\n",
    "        \n",
    "    out.reverse()\n",
    "    return D + out"
   ]
  },
  {
   "cell_type": "code",
   "execution_count": null,
   "id": "fad44524",
   "metadata": {},
   "outputs": [],
   "source": [
    "def valid_substitutions(rule_name, D):\n",
    "\n",
    "    sub_options = []\n",
    "    \n",
    "    for i in D:\n",
    "        for j in D:\n",
    "            if str(i) != str(j):\n",
    "                LHS, RHS = j.args\n",
    "                \n",
    "                if (type(LHS) is not sp.numbers.One) and (type(LHS) is not sp.numbers.Zero) and (type(RHS) is not sp.numbers.Zero) and (type(RHS) is not sp.numbers.One):\n",
    "                \n",
    "                    if rule_name == \"substitute_LHS_for_RHS\":\n",
    "\n",
    "                        if (str(LHS) in str(i)) and (type(i.subs(LHS, RHS)) is sp.Equality) and (i.subs(LHS, RHS) != i):\n",
    "\n",
    "                            pair = [D.index(i), D.index(j)]\n",
    "                            sub_options.append(pair) if pair not in sub_options else 0\n",
    "\n",
    "                    elif rule_name == \"substitute_RHS_for_LHS\":\n",
    "\n",
    "                        if (str(RHS) in str(i)) and (type(i.subs(RHS, LHS)) is sp.Equality) and (i.subs(RHS, LHS) != i):\n",
    "\n",
    "                            pair = [D.index(i), D.index(j)]\n",
    "                            sub_options.append(pair) if (pair not in sub_options) and (pair[0] != pair[1]) else 0\n",
    "                    \n",
    "    return sub_options"
   ]
  },
  {
   "cell_type": "code",
   "execution_count": null,
   "id": "c8ba344d",
   "metadata": {},
   "outputs": [],
   "source": [
    "@func_set_timeout(5)\n",
    "def step(D, p_history=10, p_arity_0=5, p_renaming=100, p_arity_1=50, p_evaluate=50, p_arity_2=100, p_int_or_diff=2, p_subs=30):\n",
    "    \n",
    "    \n",
    "    # p_history: equation n-i is p-i times more likely (prioritises more recent equations like memory)\n",
    "    # p_arity_0: overall probability multiplier for arity 0 functions\n",
    "    # p_renaming: relevant prob multiplier for renaming premises\n",
    "    # p_arity_1: overall probability multiplier for arity 1 functions\n",
    "    # p_evaluate: relative probabilty of int or diff evaluations is multiplied by p_evaluate for arity 1 functions\n",
    "    # p_arity_2: overall probability multiplier for arity 2 functions\n",
    "    # p_int_or_diff: relative probability multiplier for int or diff compared to other arity 2 functions without multipliers\n",
    "    # p_subs: same as p_int_or_diff but for substitution functions\n",
    "    \n",
    "    A = [i[1] for i in D] # only annotations\n",
    "    D = [i[0] for i in D] # only equations\n",
    "    \n",
    "    rules_0 = [\n",
    "        \n",
    "        get_premise\n",
    "\n",
    "\n",
    "    ] + [renaming_premise]*p_renaming\n",
    "    \n",
    "\n",
    "    rules_1 = [\n",
    "        \n",
    "        cos,\n",
    "        sin,\n",
    "        exp,\n",
    "        log,\n",
    "        expand\n",
    "        \n",
    "    ] + [evaluate_derivatives, evaluate_integrals]*p_evaluate\n",
    "    \n",
    "    \n",
    "    rules_2 = [\n",
    "        \n",
    "        add,\n",
    "        minus,\n",
    "        times,\n",
    "        divide,\n",
    "        power\n",
    "    \n",
    "    ] + [differentiate, integrate]*p_int_or_diff + [substitute_LHS_for_RHS, substitute_RHS_for_LHS]*p_subs\n",
    "\n",
    "\n",
    "    # assumes D has at least one equation so far\n",
    "    relevant_equation_elements = []\n",
    "\n",
    "    for eq in D:\n",
    "        relevant_equation_elements.extend(get_equation_elements(eq))\n",
    "    relevant_equation_elements = list(dict.fromkeys(relevant_equation_elements))\n",
    "\n",
    "    arity = random.choice([0]*p_arity_0 + [1]*p_arity_1 +[2]*p_arity_2)\n",
    "    \n",
    "    elem_1 = 0\n",
    "    \n",
    "    if arity == 0:\n",
    "        rule = random.choice(rules_0)\n",
    "        eq = rule(symbols)\n",
    "        annotation = rule.__name__\n",
    "\n",
    "    if arity == 1:\n",
    "        rule = random.choice(rules_1)\n",
    "\n",
    "        # elem_1 can be equation\n",
    "        elem_1 = random.choice(pref_eqs(D, p_history))\n",
    "        eq = rule(elem_1)\n",
    "                \n",
    "        n = D.index(elem_1)\n",
    "                \n",
    "        annotation = [rule.__name__, n+1]\n",
    "                \n",
    "\n",
    "    if arity == 2:\n",
    "        \n",
    "        # no substitution rules if only 1 equation in D\n",
    "        if len(D) == 1:\n",
    "            \n",
    "            rule = random.choice([i for i in rules_2 if 'subs' not in str(i.__name__)])\n",
    "        else:\n",
    "            \n",
    "            rule = random.choice(rules_2)\n",
    "        \n",
    "        # substitution\n",
    "        if (\"subs\" in rule.__name__):\n",
    "            \n",
    "            # alex says empty lists are falsey, a list with anything in is truthy,\n",
    "            # so we only need `if valid_substitutions(rule.__name__, D)@`\n",
    "            if valid_substitutions(rule.__name__, D) != []:\n",
    "                \n",
    "\n",
    "                n_1, n_2 = random.choice(valid_substitutions(rule.__name__, D))\n",
    "\n",
    "                elem_1, elem_2 = D[n_1], D[n_2]\n",
    "                \n",
    "                annotation = [rule.__name__, n_1+1, n_2+1]\n",
    "            \n",
    "        \n",
    "        # integration or differentiation\n",
    "        elif rule.__name__ in ['integrate', 'differentiate']:\n",
    "            \n",
    "            # elem_1 can be an equation\n",
    "            elem_1 = random.choice(pref_eqs(D, p_history))\n",
    "\n",
    "            # elem_2 can be an equation with components in elem_1\n",
    "            elem_2 = random.choice([i for i in get_equation_elements(elem_1) if len(str(i)) == 1 and str(i) not in string.digits])\n",
    "            \n",
    "            n = D.index(elem_1)\n",
    "                    \n",
    "            annotation = [rule.__name__, n+1, elem_2]\n",
    "            \n",
    "        \n",
    "        # integration or differentiation\n",
    "        elif rule.__name__ in ['power']:\n",
    "            \n",
    "            # elem_1 can be an equation\n",
    "            elem_1 = random.choice(pref_eqs(D, p_history))\n",
    "\n",
    "            # elem_2 can be an equation with components in elem_1\n",
    "            elem_2 = random.choice([i for i in get_equation_elements(elem_1) if len(str(i)) < 3])\n",
    "            \n",
    "            n = D.index(elem_1)\n",
    "                    \n",
    "            annotation = [rule.__name__, n+1, elem_2]\n",
    "            \n",
    "\n",
    "        else:\n",
    "\n",
    "            # elem_1 can be an equation\n",
    "            elem_1 = random.choice(pref_eqs(D, p_history))\n",
    "\n",
    "            # elem_2 can be an equation element\n",
    "            elem_2 = random.choice([i for i in relevant_equation_elements if str(i) not in string.digits])\n",
    "            \n",
    "            n = D.index(elem_1)\n",
    "                    \n",
    "            annotation = [rule.__name__, n+1, elem_2]\n",
    "\n",
    "        eq = rule(elem_1, elem_2)\n",
    "        \n",
    "\n",
    "    if type(eq) == sp.Equality:\n",
    "            \n",
    "        swapped_eq = sp.Eq(eq.args[1], eq.args[0])\n",
    "\n",
    "        if (eq in D) or ('Subs' in str(eq)) or ('Piecewise' in str(eq)) or (swapped_eq in D) or len(sp.latex(eq)) >= 350:\n",
    "            return False\n",
    "\n",
    "        # success\n",
    "        else:\n",
    "            return (eq, annotation)\n",
    "\n",
    "    else:\n",
    "        return False"
   ]
  },
  {
   "cell_type": "markdown",
   "id": "3896f8ab",
   "metadata": {},
   "source": [
    "**Use annotations to only include relevant steps in a derivation**"
   ]
  },
  {
   "cell_type": "code",
   "execution_count": null,
   "id": "bf9193d2",
   "metadata": {},
   "outputs": [],
   "source": [
    "def extract_chain_starting_from_i(i, eq_pairs):\n",
    "    # eq_pairs is a reverse chronological list of current equation numbers,\n",
    "    # and the past equation numbers used to make them \n",
    "    # e.g., [30, 28], [29, 14], [28, 23, 2]\n",
    "    \n",
    "    chain = [eq_pairs[i]]\n",
    "\n",
    "\n",
    "    while True:\n",
    "\n",
    "        current_eq = chain[-1][0]\n",
    "        used_eq = chain[-1][1]\n",
    "\n",
    "        for pair in eq_pairs:\n",
    "\n",
    "            last_eq = pair[0]\n",
    "            if last_eq == used_eq:\n",
    "                chain.append(pair)\n",
    "\n",
    "        if (len(chain[-1]) == 1):\n",
    "            #if pair not in chain: chain.append(pair)\n",
    "            chain.append(pair) if pair not in chain else 0\n",
    "            break\n",
    "\n",
    "    chain_nums = []\n",
    "    for i in chain:\n",
    "        chain_nums.extend(i)\n",
    "\n",
    "    valid_chain = [i for i in chain if len(i) == 1 and i[0] in chain_nums] + chain\n",
    "\n",
    "    chain = [i for i in chain if i in valid_chain]\n",
    "\n",
    "    return chain"
   ]
  },
  {
   "cell_type": "code",
   "execution_count": null,
   "id": "c77952f8",
   "metadata": {},
   "outputs": [],
   "source": [
    "def merge_chains(chain, eq_pairs):\n",
    "    \n",
    "    # finds all chains which come from separate derivations that are substituted in\n",
    "    # merges any new equations reverse chronologically\n",
    "\n",
    "    while True:\n",
    "    \n",
    "        old_chain = chain.copy()\n",
    "\n",
    "        first_numbers = [i[0] for i in chain]\n",
    "\n",
    "        # unaccounted for eqs\n",
    "        missing_eqs = [i[2] for i in chain if len(i) > 2] + [i[1] for i in chain if len(i) > 1 and i[1] not in first_numbers]\n",
    "\n",
    "        for i in eq_pairs:\n",
    "            chain.append(i) if (i[0] in missing_eqs) and i not in chain else 0\n",
    "\n",
    "        if old_chain == chain:\n",
    "            break\n",
    "\n",
    "    chain_dict = {i[0]:i for i in chain}\n",
    "\n",
    "    return sorted(chain)"
   ]
  },
  {
   "cell_type": "code",
   "execution_count": null,
   "id": "1cc84f63",
   "metadata": {},
   "outputs": [],
   "source": [
    "is_subset = lambda chain_1, chain_2: [i for i in chain_1 if i not in chain_2] == [] if chain_1 != chain_2 else False"
   ]
  },
  {
   "cell_type": "code",
   "execution_count": null,
   "id": "e7383a39",
   "metadata": {},
   "outputs": [],
   "source": [
    "def extract_derivations(D):\n",
    "    \n",
    "    A = [[i+1] + list(D[i][1]) if type(D[i][1]) is list else [i+1, D[i][1]] for i in range(len(D))]\n",
    "\n",
    "    A.reverse()\n",
    "\n",
    "    eq_pairs = []\n",
    "\n",
    "    for row in A:\n",
    "        if 'subs' in str(row):\n",
    "            eq_pairs.append([row[0], row[2], row[3]])\n",
    "        elif 'premise' in str(row):\n",
    "            eq_pairs.append([row[0]])\n",
    "        else:\n",
    "            eq_pairs.append([row[0], row[2]])\n",
    "\n",
    "    chains = []\n",
    "    for i in range(len(eq_pairs)-1):\n",
    "        if len(eq_pairs[i]) > 1:\n",
    "            chains.append(extract_chain_starting_from_i(i, eq_pairs))\n",
    "\n",
    "    chains = [merge_chains(i, eq_pairs) for i in chains]\n",
    "\n",
    "    final_chains = [i for i in chains.copy() if len(i) >= 3]\n",
    "    for i in chains:\n",
    "        for j in chains:\n",
    "            if is_subset(i,j):\n",
    "                try:\n",
    "                    final_chains.remove(i)\n",
    "                except:\n",
    "                    pass\n",
    "\n",
    "    derivations = []\n",
    "\n",
    "    for n in range(len(final_chains)):\n",
    "        D_idxs = [i[0]-1 for i in final_chains[n]]\n",
    "\n",
    "        derivation = [D[n] for n in D_idxs]\n",
    "\n",
    "        derivations.append(derivation)\n",
    "\n",
    "    return derivations"
   ]
  },
  {
   "cell_type": "code",
   "execution_count": null,
   "id": "cdd5ec5e",
   "metadata": {},
   "outputs": [],
   "source": [
    "def fix_equation_indexes(derivation, D):\n",
    "\n",
    "    good_bad_idxs = [[i+1,D.index(derivation[i])+1] for i in range(len(derivation))]\n",
    "\n",
    "    for i in range(len(derivation)):\n",
    "        for j in range(len(derivation[i][1])):\n",
    "            for idx in good_bad_idxs:\n",
    "                if derivation[i][1][j] == idx[1]:\n",
    "                    derivation[i][1][j] = idx[0]\n",
    "                    \n",
    "    return derivation"
   ]
  },
  {
   "cell_type": "code",
   "execution_count": null,
   "id": "b3607fb9",
   "metadata": {},
   "outputs": [],
   "source": [
    "def create_df_row(derivation):\n",
    "\n",
    "    data = []\n",
    "    for i in range(len(derivation[:6])):\n",
    "        row = []\n",
    "\n",
    "        eq, annotation = derivation[i]\n",
    "\n",
    "        row.append(i+1)\n",
    "\n",
    "        if type(annotation) is str:\n",
    "            row.append(annotation)\n",
    "            row.extend(['','',''])\n",
    "\n",
    "        else:\n",
    "            if len(annotation) == 2:\n",
    "                row.extend(annotation)\n",
    "                row.append('')\n",
    "                row.append('')\n",
    "\n",
    "            else:\n",
    "                row.extend(annotation[:2])\n",
    "\n",
    "                sec_arg = annotation[-1]\n",
    "\n",
    "                if type(sec_arg) is int:\n",
    "                    row.append(sec_arg)\n",
    "                    row.append('')\n",
    "\n",
    "                else:\n",
    "                    row.append(sp.latex(sec_arg))\n",
    "                    row.append(sp.srepr(sec_arg))\n",
    "\n",
    "\n",
    "        row.extend([sp.srepr(eq), sp.latex(eq)])  \n",
    "\n",
    "        data.extend(row)\n",
    "        \n",
    "    cols = ['eq_idx_1', 'rule_1', 'arg_11', 'arg_12', 'arg_12_srepr', 'eq_1_srepr', 'eq_1',\n",
    "        'eq_idx_2', 'rule_2', 'arg_21', 'arg_22', 'arg_22_srepr', 'eq_2_srepr', 'eq_2',\n",
    "        'eq_idx_3', 'rule_3', 'arg_31', 'arg_32', 'arg_32_srepr', 'eq_3_srepr', 'eq_3',\n",
    "        'eq_idx_4', 'rule_4', 'arg_41', 'arg_42', 'arg_42_srepr', 'eq_4_srepr', 'eq_4',\n",
    "        'eq_idx_5', 'rule_5', 'arg_51', 'arg_52', 'arg_52_srepr', 'eq_5_srepr', 'eq_5',\n",
    "        'eq_idx_6', 'rule_6', 'arg_61', 'arg_62', 'arg_62_srepr', 'eq_6_srepr', 'eq_6']\n",
    "\n",
    "    df = pd.DataFrame(data).transpose()\n",
    "    df.columns = cols\n",
    "    \n",
    "    return df"
   ]
  },
  {
   "cell_type": "code",
   "execution_count": null,
   "id": "4e2916ba",
   "metadata": {},
   "outputs": [],
   "source": [
    "def reconstruct_derivation(df, i, printing=False):\n",
    "\n",
    "    row = list(df.iloc[i])\n",
    "    d = []\n",
    "    for i in range(7):\n",
    "        j = 7*i\n",
    "        d.append(row[j:j+7]) if row[j:j+7] != [] else 0\n",
    "\n",
    "        \n",
    "    d = [[sp.sympify(i[-2]),[i[1],i[2],i[3]]] if str(i[3]) in string.digits else [sp.sympify(i[-2]),[i[1],i[2],i[4]]] for i in d]\n",
    "\n",
    "    new_d = []\n",
    "    for i in d:\n",
    "        eq, annotation = i\n",
    "\n",
    "        annotation = [i for i in annotation if (str(i) != '') and (str(i) != 'nan')]\n",
    "\n",
    "        if (len(annotation) > 1) and (str(annotation[-1]) not in string.digits):\n",
    "            annotation[-1] = sp.sympify(annotation[-1])\n",
    "\n",
    "        new_d.append((eq, annotation)) if len(annotation) > 1 else new_d.append((eq, annotation[0]))\n",
    "\n",
    "\n",
    "    d = new_d\n",
    "    \n",
    "    if printing is True:\n",
    "        \n",
    "        j = 1\n",
    "        for i in d:\n",
    "            print(j)\n",
    "            j += 1\n",
    "            print(i[1])\n",
    "            display(i[0])\n",
    "            print('\\n')\n",
    "            \n",
    "    else:\n",
    "        \n",
    "        return d"
   ]
  },
  {
   "cell_type": "code",
   "execution_count": null,
   "id": "22fbc583",
   "metadata": {},
   "outputs": [],
   "source": [
    "def create_alternative_final_equations(df, i, d_size, error_log = False):\n",
    "\n",
    "    D = reconstruct_derivation(df, i)[:d_size]\n",
    "    \n",
    "    #print(D,'\\n\\n')\n",
    "\n",
    "    correct_eq = D[-1][0]\n",
    "    \n",
    "    D = D[:d_size-1]\n",
    "    \n",
    "    alternative_equations = []\n",
    "    \n",
    "    error_log = []\n",
    "\n",
    "    while True:\n",
    "        try:\n",
    "            next_step = step(D)\n",
    "\n",
    "        except Exception:\n",
    "            next_step = False\n",
    "            error = traceback.format_exc()\n",
    "            error_log.append(error) if error not in error_log else 0\n",
    "\n",
    "        eval_ints = [i[1] for i in D if 'evaluate_integrals' in str(i[1])]\n",
    "\n",
    "        alternative_equations.append(next_step) if (next_step != False) and (str(next_step[0]) != str(correct_eq))\\\n",
    "        and (next_step[1] not in eval_ints) and (str(next_step[0]) not in str(alternative_equations))\\\n",
    "        and ('premise' not in str(next_step)) and (equation_contains_complicated_operand(next_step[0]) is False) else 0\n",
    "        \n",
    "        \n",
    "        if len(alternative_equations) >= 4:\n",
    "            break\n",
    "    \n",
    "    if error_log == True:\n",
    "        return alternative_equations, error_log\n",
    "    \n",
    "    else:\n",
    "        return [sp.srepr(i[0]) for i in alternative_equations] + [sp.latex(i[0]) for i in alternative_equations], [i[1] for i in alternative_equations]"
   ]
  },
  {
   "cell_type": "markdown",
   "id": "118cae2f",
   "metadata": {},
   "source": [
    "**Main generation loop**"
   ]
  },
  {
   "cell_type": "code",
   "execution_count": null,
   "id": "8b812d06",
   "metadata": {},
   "outputs": [],
   "source": [
    "df = pd.DataFrame(columns = ['eq_idx_1', 'rule_1', 'arg_11', 'arg_12', 'arg_12_srepr', 'eq_1_srepr', 'eq_1',\n",
    "        'eq_idx_2', 'rule_2', 'arg_21', 'arg_22', 'arg_22_srepr', 'eq_2_srepr', 'eq_2',\n",
    "        'eq_idx_3', 'rule_3', 'arg_31', 'arg_32', 'arg_32_srepr', 'eq_3_srepr', 'eq_3',\n",
    "        'eq_idx_4', 'rule_4', 'arg_41', 'arg_42', 'arg_42_srepr', 'eq_4_srepr', 'eq_4',\n",
    "        'eq_idx_5', 'rule_5', 'arg_51', 'arg_52', 'arg_52_srepr', 'eq_5_srepr', 'eq_5',\n",
    "        'eq_idx_6', 'rule_6', 'arg_61', 'arg_62', 'arg_62_srepr', 'eq_6_srepr', 'eq_6'])\n",
    "\n",
    "#df = pd.read_pickle('derivations_2.pkl')\n",
    "\n",
    "#derivations = [reconstruct_derivation(df, i) for i in range(len(df))]\n",
    "\n",
    "derivations = []\n",
    "\n",
    "T = 12000 - len(df)\n",
    "\n",
    "with tqdm(total=T) as pbar:\n",
    "\n",
    "    while True:\n",
    "        eq = get_premise(symbols)\n",
    "\n",
    "        D = [(eq, \"premise\")]\n",
    "        error_log = []\n",
    "\n",
    "        while True:\n",
    "            \n",
    "            try:\n",
    "                next_step = step(D)\n",
    "\n",
    "            except Exception:\n",
    "                error = traceback.format_exc()\n",
    "                error_log.append(error) if error not in error_log else 0\n",
    "                \n",
    "            except:\n",
    "                print('timeout')\n",
    "\n",
    "            eval_ints = [i[1] for i in D if 'evaluate_integrals' in str(i[1])]\n",
    "\n",
    "            D.append(next_step) if (next_step != False) and (next_step not in D) and (next_step[1] not in eval_ints) else 0\n",
    "            \n",
    "            if len(D) >= 6 and ('premise' not in str(D[-1])):\n",
    "                break\n",
    "        \n",
    "        try:\n",
    "            derivation = fix_equation_indexes(extract_derivations(D)[0], D)\n",
    "        except:\n",
    "            derivation = []\n",
    "\n",
    "\n",
    "        if len(derivation) == 6:\n",
    "            derivations.append(derivation)\n",
    "            print(len(df)) if len(df) %10 == 0 else 0\n",
    "            \n",
    "            df = pd.concat([df, create_df_row(derivation)])\n",
    "            df.to_pickle('derivations_2.pkl') if len(derivations) %10 == 0 else 0\n",
    "            \n",
    "            pbar.update(1)\n",
    "\n",
    "        if len(df) >= T:\n",
    "            break"
   ]
  },
  {
   "cell_type": "code",
   "execution_count": null,
   "id": "c3c83d9a",
   "metadata": {},
   "outputs": [],
   "source": [
    "df = pd.read_pickle('next_equation_selection.pkl')"
   ]
  },
  {
   "cell_type": "code",
   "execution_count": null,
   "id": "46f3a308",
   "metadata": {},
   "outputs": [],
   "source": [
    "next_equation_data = []\n",
    "loop = tqdm(range(len(df)))\n",
    "for i in loop:\n",
    "    try:\n",
    "        next_equation_data.append(create_alternative_final_equations(df[df.columns[:42]], i, 2)[0])\n",
    "        print((i, 'ok'))\n",
    "    except:\n",
    "        print((i, 'bad'))"
   ]
  },
  {
   "cell_type": "code",
   "execution_count": null,
   "id": "f938893f",
   "metadata": {},
   "outputs": [],
   "source": [
    "len(next_equation_data)"
   ]
  },
  {
   "cell_type": "code",
   "execution_count": null,
   "id": "f9c4f29f",
   "metadata": {},
   "outputs": [],
   "source": [
    "cols = ['neg_1_srepr', 'neg_2_srepr', 'neg_3_srepr', 'neg_4_srepr', 'neg_1', 'neg_2', 'neg_3', 'neg_4']\n",
    "\n",
    "pd.DataFrame(next_equation_data, columns=cols)"
   ]
  },
  {
   "cell_type": "code",
   "execution_count": null,
   "id": "7dfbe7cf",
   "metadata": {},
   "outputs": [],
   "source": [
    "new_df = pd.concat([df[df.concat[:42]], pd.DataFrame(next_equation_data, columns=cols)], axis=1)\n",
    "\n",
    "new_df"
   ]
  },
  {
   "cell_type": "code",
   "execution_count": null,
   "id": "46bed83c",
   "metadata": {},
   "outputs": [],
   "source": [
    "new_df.to_pickle('next_equation_selection.pkl')"
   ]
  },
  {
   "cell_type": "markdown",
   "id": "5d519907",
   "metadata": {},
   "source": [
    "**Variable renaming** (also used to clean data further by removing incompatible derivations with complex function arguments)"
   ]
  },
  {
   "cell_type": "code",
   "execution_count": null,
   "id": "0b18464d",
   "metadata": {},
   "outputs": [],
   "source": [
    "df = pd.read_pickle('next_equation_selection.pkl')"
   ]
  },
  {
   "cell_type": "code",
   "execution_count": null,
   "id": "9fbb92da",
   "metadata": {},
   "outputs": [],
   "source": [
    "def get_free_symbols_from_derivation(d):\n",
    "    free_symbols = []\n",
    "    \n",
    "    for step in d:\n",
    "        free_symbols.extend(list(step[0].free_symbols))\n",
    "    \n",
    "    return list(dict.fromkeys(free_symbols))"
   ]
  },
  {
   "cell_type": "code",
   "execution_count": null,
   "id": "4b8f0074",
   "metadata": {},
   "outputs": [],
   "source": [
    "def get_functions_from_derivation(d):\n",
    "    functions = []\n",
    "\n",
    "    for step in d:\n",
    "        functions.extend(get_equation_elements(step[0]))\n",
    "\n",
    "    return list(dict.fromkeys([i for i in functions if len(str(type(i))) == 1]))"
   ]
  },
  {
   "cell_type": "code",
   "execution_count": null,
   "id": "1648e0e2",
   "metadata": {},
   "outputs": [],
   "source": [
    "rename_function = lambda function, sym: sp.Function(sym)(*tuple(function.free_symbols))"
   ]
  },
  {
   "cell_type": "code",
   "execution_count": null,
   "id": "70c9faa5",
   "metadata": {},
   "outputs": [],
   "source": [
    "def get_swap_list(d):\n",
    "\n",
    "    target_elements = get_functions_from_derivation(d) + get_free_symbols_from_derivation(d)\n",
    "    #display(target_elements)\n",
    "\n",
    "    bad_symbols = [symbol(str(type(i))) for i in get_functions_from_derivation(d)] + get_free_symbols_from_derivation(d)\n",
    "    #display(bad_symbols)\n",
    "\n",
    "    alternative_symbols = []\n",
    "    while len(alternative_symbols) < len(target_elements):\n",
    "        sym = random.choice(symbols)\n",
    "        if (sym not in bad_symbols) and (sym not in alternative_symbols):\n",
    "            alternative_symbols.append(sym)\n",
    "\n",
    "    #display(alternative_symbols)\n",
    "\n",
    "\n",
    "    swap_list = []\n",
    "    for i in range(len(target_elements)):\n",
    "\n",
    "        elem = target_elements[i]\n",
    "        sym = alternative_symbols[i]\n",
    "\n",
    "        if len(str(type(elem))) == 1:\n",
    "            #display(rename_function(elem, sym))\n",
    "            swap_list.append([elem, rename_function(elem, sym)])\n",
    "\n",
    "        else:\n",
    "            swap_list.append([elem, sym])\n",
    "\n",
    "    return swap_list"
   ]
  },
  {
   "cell_type": "code",
   "execution_count": null,
   "id": "fe5a91db",
   "metadata": {},
   "outputs": [],
   "source": [
    "get_derivation_and_negative_examples = lambda df, i: (reconstruct_derivation(df[df.columns[:42]], i), [sp.sympify(i) for i in list(df[df.columns[42:46]].iloc[i])])"
   ]
  },
  {
   "cell_type": "code",
   "execution_count": null,
   "id": "580fc283",
   "metadata": {},
   "outputs": [],
   "source": [
    "is_math = lambda elem: str(elem) not in string.digits and type(elem) is not str"
   ]
  },
  {
   "cell_type": "code",
   "execution_count": null,
   "id": "811c9442",
   "metadata": {},
   "outputs": [],
   "source": [
    "def rename_variables(math, swaps):\n",
    "    \n",
    "    for pair in swaps:\n",
    "        math = math.subs(pair[0], pair[1])\n",
    "    \n",
    "    return math"
   ]
  },
  {
   "cell_type": "code",
   "execution_count": null,
   "id": "a079fc92",
   "metadata": {},
   "outputs": [],
   "source": [
    "def equation_contains_complicated_operand(eq):\n",
    "    \n",
    "    funcs = get_equation_elements(eq)\n",
    "\n",
    "    funcs = list(dict.fromkeys([i for i in funcs if len(str(type(i))) == 1]))\n",
    "\n",
    "    func_args = []\n",
    "    for func in funcs:\n",
    "        func_args.extend(list(func.args))\n",
    "\n",
    "    arg_lens = [len(str(arg)) for arg in func_args if len(str(arg)) > 1]\n",
    "\n",
    "    if arg_lens:\n",
    "        return True\n",
    "\n",
    "    else:\n",
    "        return False"
   ]
  },
  {
   "cell_type": "code",
   "execution_count": null,
   "id": "d488aac7",
   "metadata": {},
   "outputs": [],
   "source": [
    "def contains_a_func_of_a_complicated_operand(df, i):\n",
    "\n",
    "    d, negs = get_derivation_and_negative_examples(df, i)\n",
    "\n",
    "    eqs = [i[0] for i in d] + negs\n",
    "\n",
    "    funcs = []\n",
    "    for eq in eqs:\n",
    "        funcs.extend(get_equation_elements(eq))\n",
    "\n",
    "    funcs = list(dict.fromkeys([i for i in funcs if len(str(type(i))) == 1]))\n",
    "\n",
    "    func_args = []\n",
    "    for func in funcs:\n",
    "        func_args.extend(list(func.args))\n",
    "\n",
    "    arg_lens = [len(str(arg)) for arg in func_args if len(str(arg)) > 1]\n",
    "\n",
    "    if arg_lens:\n",
    "        return True\n",
    "\n",
    "    else:\n",
    "        return False"
   ]
  },
  {
   "cell_type": "code",
   "execution_count": null,
   "id": "ddfb7503",
   "metadata": {},
   "outputs": [],
   "source": [
    "# this identifies all df entries with weird functions\n",
    "\n",
    "bad_idxs = []\n",
    "\n",
    "loop = tqdm(range(len(df)))\n",
    "\n",
    "for i in loop:\n",
    "    \n",
    "    try:\n",
    "        if contains_a_func_of_a_complicated_operand(df, i):\n",
    "            bad_idxs.append(i)\n",
    "            \n",
    "    except:\n",
    "        print(i)\n",
    "        bad_idxs.append(i)"
   ]
  },
  {
   "cell_type": "code",
   "execution_count": null,
   "id": "b180c9b9",
   "metadata": {},
   "outputs": [],
   "source": [
    "# # remove entries with complex function operands\n",
    "\n",
    "# new_df = pd.DataFrame([df.iloc[i] for i in range(len(df)) if i not in bad_idxs], columns = df.columns)\n",
    "\n",
    "# new_df.index = range(len(new_df))\n",
    "\n",
    "# new_df.to_pickle('next_equation_selection.pkl')"
   ]
  },
  {
   "cell_type": "code",
   "execution_count": null,
   "id": "e60cd434",
   "metadata": {},
   "outputs": [],
   "source": [
    "def get_derivation_from_example(example, printing=False, negative_equations=False):\n",
    "\n",
    "    d = example[\"srepr_derivation\"]\n",
    "\n",
    "    derivation = []\n",
    "\n",
    "    for step in d:\n",
    "\n",
    "        annotation, eq = step\n",
    "\n",
    "        eq = sp.sympify(eq)\n",
    "\n",
    "        if type(annotation) is list:\n",
    "\n",
    "            annotation = [sp.sympify(elem) if \"commutative\" in str(elem) else elem for elem in annotation]\n",
    "\n",
    "        derivation.append([eq, annotation])\n",
    "        \n",
    "    if printing is True:\n",
    "        \n",
    "        for i in range(len(derivation)):\n",
    "            \n",
    "            eq, annotation = derivation[i]\n",
    "            \n",
    "            print(i+1,'\\n', annotation)\n",
    "            display(eq)\n",
    "            \n",
    "            print('\\n')\n",
    "            \n",
    "        if negative_equations is True:\n",
    "\n",
    "            for neg in [sp.sympify(neg) for neg in example[\"srepr_negatives\"]]:\n",
    "                display(neg)\n",
    "                \n",
    "            print('\\n')\n",
    "            \n",
    "            \n",
    "    if negative_equations is True:\n",
    "        \n",
    "        return derivation, [sp.sympify(neg) for neg in example[\"srepr_negatives\"]]\n",
    "        \n",
    "    return derivation"
   ]
  },
  {
   "cell_type": "code",
   "execution_count": null,
   "id": "6a32d8f0",
   "metadata": {},
   "outputs": [],
   "source": [
    "def create_example(derivation_and_negs, positive_idxs):\n",
    "    # from ACTUAL derivation\n",
    "    # also outputs srepr for reproducing derivations\n",
    "    \n",
    "    derivation, negs = derivation_and_negs\n",
    "\n",
    "    latex_derivation = []\n",
    "    srepr_derivation = []\n",
    "    \n",
    "\n",
    "    for step in derivation:\n",
    "\n",
    "        eq, annotation = step\n",
    "\n",
    "        latex_eq = sp.latex(eq)\n",
    "        srepr_eq = sp.srepr(eq)\n",
    "\n",
    "        if type(annotation) is list:\n",
    "            latex_annotation = [sp.latex(elem) if is_math(elem) else elem for elem in annotation]\n",
    "            srepr_annotation = [sp.srepr(elem) if is_math(elem) else elem for elem in annotation]\n",
    "\n",
    "        else:\n",
    "            latex_annotation = annotation\n",
    "            srepr_annotation = annotation\n",
    "\n",
    "        latex_derivation.append([latex_annotation, latex_eq])\n",
    "        srepr_derivation.append([srepr_annotation, srepr_eq])\n",
    "        \n",
    "        \n",
    "    latex_derivation = clean_derivation(latex_derivation)\n",
    "        \n",
    "\n",
    "    latex_negs = [sp.latex(neg).replace(\"\\\\left\",\"\").replace(\"\\\\right\",\"\").replace(' )',')') for neg in negs]\n",
    "    srepr_negs = [sp.srepr(neg) for neg in negs]\n",
    "\n",
    "    example = {\n",
    "        \"derivation\":latex_derivation,\n",
    "        \"positive_idxs\":positive_idxs,\n",
    "        \"negatives\":latex_negs,\n",
    "        \"srepr_derivation\":srepr_derivation,\n",
    "        \"srepr_negatives\":srepr_negs\n",
    "    }\n",
    "    \n",
    "    return example"
   ]
  },
  {
   "cell_type": "markdown",
   "id": "dae0d8ce",
   "metadata": {},
   "source": [
    "**Convert to json**"
   ]
  },
  {
   "cell_type": "code",
   "execution_count": null,
   "id": "a6249377",
   "metadata": {},
   "outputs": [],
   "source": [
    "#data = [get_derivation_and_negative_examples(df, i) for i in range(len(df))]\n",
    "\n",
    "data = [[reconstruct_derivation(df[df.columns[:42]], i)[:2], [sp.sympify(j) for j in next_equation_data[i][:4]]] for i in range(len(df))]"
   ]
  },
  {
   "cell_type": "code",
   "execution_count": null,
   "id": "ed0217eb",
   "metadata": {},
   "outputs": [],
   "source": [
    "# check data\n",
    "\n",
    "d, negs = data[12300]\n",
    "\n",
    "for i in d:\n",
    "    \n",
    "    print(i[1],'\\n')\n",
    "    display(i[0])\n",
    "    print('\\n\\n')\n",
    "    \n",
    "for i in negs:\n",
    "    display(i)"
   ]
  },
  {
   "cell_type": "code",
   "execution_count": null,
   "id": "8c8e37ab",
   "metadata": {},
   "outputs": [],
   "source": [
    "idxs = [2]\n",
    "\n",
    "latex_derivations = []\n",
    "latex_negatives = []\n",
    "srepr_derivations = []\n",
    "srepr_negatives = []\n",
    "\n",
    "loop = tqdm(range(len(data)))\n",
    "\n",
    "for i in loop:\n",
    "\n",
    "    derivation, negs = data[i]\n",
    "\n",
    "    latex_derivation = []\n",
    "    srepr_derivation = []\n",
    "\n",
    "    for step in derivation:\n",
    "\n",
    "        eq, annotation = step\n",
    "        \n",
    "        latex_eq = sp.latex(eq)\n",
    "        srepr_eq = sp.srepr(eq)\n",
    "\n",
    "        if type(annotation) is list:\n",
    "            latex_annotation = [sp.latex(elem) if is_math(elem) else elem for elem in annotation]\n",
    "            srepr_annotation = [sp.srepr(elem) if is_math(elem) else elem for elem in annotation]\n",
    "            \n",
    "        else:\n",
    "            latex_annotation = annotation\n",
    "            srepr_annotation = annotation\n",
    "\n",
    "        latex_derivation.append((latex_annotation, latex_eq))\n",
    "        srepr_derivation.append((srepr_annotation, srepr_eq))\n",
    "\n",
    "    latex_derivations.append(latex_derivation)\n",
    "    srepr_derivations.append(srepr_derivation)\n",
    "\n",
    "    latex_negatives.append([sp.latex(neg) for neg in negs])\n",
    "    srepr_negatives.append([sp.srepr(neg) for neg in negs])"
   ]
  },
  {
   "cell_type": "code",
   "execution_count": null,
   "id": "645ea640",
   "metadata": {},
   "outputs": [],
   "source": [
    "def clean_derivation(d):\n",
    "    \n",
    "    # gets rid of unwanted text such as \\\\left / \\\\right\n",
    "    \n",
    "    # keeps step = (annotation, eq) format\n",
    "\n",
    "    new_d = []\n",
    "\n",
    "    for step in d:\n",
    "\n",
    "        annotation, eq = step\n",
    "\n",
    "        eq = eq.replace(\"\\\\left\",\"\").replace(\"\\\\right\",\"\").replace(' )',')')\n",
    "\n",
    "   \n",
    "        if type(annotation) is list:\n",
    "            \n",
    "            \n",
    "            annotation = [elem.replace(\"\\\\left\",\"\").replace(\"\\\\right\",\"\").replace(' )',')') if \"\\\\left\" in str(elem) or \"\\\\right\" in str(elem) else elem for elem in annotation]\n",
    "\n",
    "\n",
    "        new_d.append((annotation, eq))\n",
    "        \n",
    "        \n",
    "    return new_d"
   ]
  },
  {
   "cell_type": "code",
   "execution_count": null,
   "id": "759fa395",
   "metadata": {},
   "outputs": [],
   "source": [
    "all_data = []\n",
    "\n",
    "for i in range(len(data)):\n",
    "    all_data.append({'derivation':clean_derivation(latex_derivations[i]),\n",
    "                      'positive_idxs':idxs,\n",
    "                      'negatives':[eq.replace(\"\\\\left\",\"\").replace(\"\\\\right\",\"\").replace(' )',')') for eq in latex_negatives[i]],\n",
    "                      'srepr_derivation':srepr_derivations[i],\n",
    "                      'srepr_negatives':srepr_negatives[i]})"
   ]
  },
  {
   "cell_type": "code",
   "execution_count": null,
   "id": "c4557296",
   "metadata": {},
   "outputs": [],
   "source": [
    "import json\n",
    "import numpy as np\n",
    "\n",
    "class NpEncoder(json.JSONEncoder):\n",
    "    def default(self, obj):\n",
    "        if isinstance(obj, np.integer):\n",
    "            return int(obj)\n",
    "        if isinstance(obj, np.floating):\n",
    "            return float(obj)\n",
    "        if isinstance(obj, np.ndarray):\n",
    "            return obj.tolist()\n",
    "        return json.JSONEncoder.default(self, obj)"
   ]
  },
  {
   "cell_type": "code",
   "execution_count": null,
   "id": "6f7032ea",
   "metadata": {},
   "outputs": [],
   "source": [
    "import json\n",
    "with open('next_equation_selection_steps=2.json', 'w') as f:\n",
    "    json.dump(all_data, f, cls = NpEncoder)"
   ]
  },
  {
   "cell_type": "code",
   "execution_count": null,
   "id": "96e8cbcf",
   "metadata": {},
   "outputs": [],
   "source": [
    "import numpy as np\n",
    "import json\n",
    "d_file = open('next_equation_selection_steps=2.json','r')\n",
    "d_json = json.load(d_file)"
   ]
  },
  {
   "cell_type": "code",
   "execution_count": null,
   "id": "bd2cc604",
   "metadata": {},
   "outputs": [],
   "source": [
    "i = 2823\n",
    "\n",
    "example = d_json[i]"
   ]
  },
  {
   "cell_type": "code",
   "execution_count": null,
   "id": "e7e884c6",
   "metadata": {},
   "outputs": [],
   "source": [
    "def rename_derivation_variables(example):\n",
    "    \n",
    "    #d, negs = get_derivation_and_negative_examples(df, i)\n",
    "    \n",
    "    d, negs = get_derivation_from_example(example, negative_equations=True)\n",
    "\n",
    "    new_d = []\n",
    "\n",
    "    swaps = get_swap_list(d)\n",
    "    \n",
    "    #display(swaps)\n",
    "    \n",
    "    for i in range(len(d)):\n",
    "\n",
    "        row = []\n",
    "        for j in range(len(d[i])):\n",
    "\n",
    "            if type(d[i][j]) is list:\n",
    "                annotation = []\n",
    "                for k in range(len(d[i][j])):\n",
    "\n",
    "                    if is_math(d[i][j][k]):\n",
    "\n",
    "                        annotation.append(rename_variables(d[i][j][k], swaps))\n",
    "\n",
    "                    else:\n",
    "                        annotation.append(d[i][j][k])\n",
    "\n",
    "                row.append(annotation)\n",
    "\n",
    "            elif type(d[i][j]) is sp.Equality:\n",
    "                row.append(rename_variables(d[i][j], swaps))\n",
    "\n",
    "            else:\n",
    "                row.append(d[i][j])\n",
    "\n",
    "        new_d.append(tuple(row))\n",
    "\n",
    "    \n",
    "    new_negs = [rename_variables(i, swaps) for i in negs]\n",
    "\n",
    "    return new_d, new_negs"
   ]
  },
  {
   "cell_type": "code",
   "execution_count": null,
   "id": "bc0527a5",
   "metadata": {},
   "outputs": [],
   "source": [
    "# create variable renaming data\n",
    "\n",
    "var_data = []\n",
    "\n",
    "loop = tqdm(d_json)\n",
    "for example in loop:\n",
    "    \n",
    "    var_data.append(create_example(rename_derivation_variables(example),positive_idxs=[2]))"
   ]
  },
  {
   "cell_type": "code",
   "execution_count": null,
   "id": "b611087a",
   "metadata": {},
   "outputs": [],
   "source": [
    "import json\n",
    "with open('next_equation_selection_VAR_RENAMING_steps=2.json', 'w') as f:\n",
    "    json.dump(var_data, f, cls = NpEncoder)"
   ]
  },
  {
   "cell_type": "code",
   "execution_count": null,
   "id": "c9037068",
   "metadata": {},
   "outputs": [],
   "source": [
    "def expression_exchange_in_derivation(example):\n",
    "    \n",
    "    d, negs = get_derivation_from_example(example, negative_equations=True)\n",
    "\n",
    "    new_d = []\n",
    "    for step in d:\n",
    "\n",
    "        eq, annotation = step\n",
    "\n",
    "        LHS, RHS = eq.args\n",
    "\n",
    "        new_eq = sp.Equality(RHS, LHS)\n",
    "\n",
    "        if type(annotation) is list:\n",
    "            rule = annotation[0]\n",
    "\n",
    "            if rule == 'substitute_LHS_for_RHS':\n",
    "                annotation = ['substitute_RHS_for_LHS'] + [elem for elem in annotation[1:]]\n",
    "\n",
    "            elif rule == 'substitute_RHS_for_LHS':\n",
    "                annotation = ['substitute_LHS_for_RHS'] + [elem for elem in annotation[1:]]\n",
    "\n",
    "        new_d.append([new_eq, annotation])\n",
    "        \n",
    "    \n",
    "    new_negs = []\n",
    "    \n",
    "    for neg in negs:\n",
    "        \n",
    "        LHS, RHS = neg.args\n",
    "        new_neg = sp.Equality(RHS, LHS)\n",
    "        new_negs.append(new_neg)\n",
    "        \n",
    "    return new_d, new_negs"
   ]
  },
  {
   "cell_type": "code",
   "execution_count": null,
   "id": "c5188f0d",
   "metadata": {},
   "outputs": [],
   "source": [
    "# create exchange data\n",
    "\n",
    "exchange_data = []\n",
    "\n",
    "loop = tqdm(d_json)\n",
    "for example in loop:\n",
    "    \n",
    "    exchange_data.append(create_example(expression_exchange_in_derivation(example),positive_idxs=[2]))"
   ]
  },
  {
   "cell_type": "code",
   "execution_count": null,
   "id": "c77efa6c",
   "metadata": {},
   "outputs": [],
   "source": [
    "import json\n",
    "with open('next_equation_selection_EXPR_EXCHANGE_steps=2.json', 'w') as f:\n",
    "    json.dump(exchange_data, f, cls = NpEncoder)"
   ]
  },
  {
   "cell_type": "code",
   "execution_count": 202,
   "id": "4010c0ef",
   "metadata": {},
   "outputs": [],
   "source": [
    "op_swap = []\n",
    "\n",
    "loop = tqdm(d_json)\n",
    "\n",
    "for example in loop:\n",
    "    \n",
    "    d, negs = get_derivation_from_example(example, negative_equations=True)\n",
    "\n",
    "    correct_eq = d[-1][0]\n",
    "\n",
    "    D = d[:-1]\n",
    "\n",
    "    random.shuffle(negs)\n",
    "\n",
    "    target_eq = negs[0]\n",
    "\n",
    "    while True:\n",
    "        \n",
    "        try:\n",
    "            next_step = step(D)\n",
    "        \n",
    "        except FunctionTimedOut:\n",
    "            pass\n",
    "\n",
    "        if next_step is not False:\n",
    "            if str(next_step[0]) == str(target_eq):\n",
    "                #print(next_step)\n",
    "                break\n",
    "\n",
    "    negs.remove(target_eq)\n",
    "\n",
    "    negs.append(correct_eq)\n",
    "\n",
    "    random.shuffle(negs)\n",
    "\n",
    "    derivation = [list(step) for step in D] + [list(next_step)]\n",
    "\n",
    "\n",
    "    derivation_and_negs = derivation, negs\n",
    "\n",
    "    \n",
    "    op_swap.append(create_example(derivation_and_negs, positive_idxs=[2]))"
   ]
  },
  {
   "cell_type": "code",
   "execution_count": 206,
   "id": "58872f76",
   "metadata": {},
   "outputs": [],
   "source": [
    "import json\n",
    "with open('next_equation_selection_OP_SWAP_steps=2.json', 'w') as f:\n",
    "    json.dump(op_swap, f, cls = NpEncoder)"
   ]
  },
  {
   "cell_type": "code",
   "execution_count": 207,
   "id": "52510331",
   "metadata": {},
   "outputs": [
    {
     "name": "stdout",
     "output_type": "stream",
     "text": [
      "1 \n",
      " premise\n"
     ]
    },
    {
     "data": {
      "image/png": "[encoded data removed]",
      "text/latex": [
       "$\\displaystyle P{\\left(H \\right)} = \\sin{\\left(e^{H} \\right)}$"
      ],
      "text/plain": [
       "          ⎛ H⎞\n",
       "P(H) = sin⎝ℯ ⎠"
      ]
     },
     "metadata": {},
     "output_type": "display_data"
    },
    {
     "name": "stdout",
     "output_type": "stream",
     "text": [
      "\n",
      "\n",
      "2 \n",
      " ['differentiate', 1, H]\n"
     ]
    },
    {
     "data": {
      "image/png": "[encoded data removed]",
      "text/latex": [
       "$\\displaystyle \\frac{d}{d H} P{\\left(H \\right)} = \\frac{d}{d H} \\sin{\\left(e^{H} \\right)}$"
      ],
      "text/plain": [
       "d          d ⎛   ⎛ H⎞⎞\n",
       "──(P(H)) = ──⎝sin⎝ℯ ⎠⎠\n",
       "dH         dH         "
      ]
     },
     "metadata": {},
     "output_type": "display_data"
    },
    {
     "name": "stdout",
     "output_type": "stream",
     "text": [
      "\n",
      "\n"
     ]
    },
    {
     "data": {
      "image/png": "[encoded data removed]",
      "text/latex": [
       "$\\displaystyle \\int P{\\left(H \\right)}\\, dH = \\int \\sin{\\left(e^{H} \\right)}\\, dH$"
      ],
      "text/plain": [
       "            ⌠           \n",
       "⌠           ⎮    ⎛ H⎞   \n",
       "⎮ P(H) dH = ⎮ sin⎝ℯ ⎠ dH\n",
       "⌡           ⌡           "
      ]
     },
     "metadata": {},
     "output_type": "display_data"
    },
    {
     "data": {
      "image/png": "[encoded data removed]",
      "text/latex": [
       "$\\displaystyle P^{2}{\\left(H \\right)} = P{\\left(H \\right)} \\sin{\\left(e^{H} \\right)}$"
      ],
      "text/plain": [
       " 2              ⎛ H⎞\n",
       "P (H) = P(H)⋅sin⎝ℯ ⎠"
      ]
     },
     "metadata": {},
     "output_type": "display_data"
    },
    {
     "data": {
      "image/png": "[encoded data removed]",
      "text/latex": [
       "$\\displaystyle P{\\left(H \\right)} e^{H} = e^{H} \\sin{\\left(e^{H} \\right)}$"
      ],
      "text/plain": [
       "      H    H    ⎛ H⎞\n",
       "P(H)⋅ℯ  = ℯ ⋅sin⎝ℯ ⎠"
      ]
     },
     "metadata": {},
     "output_type": "display_data"
    },
    {
     "data": {
      "image/png": "[encoded data removed]",
      "text/latex": [
       "$\\displaystyle \\log{\\left(P{\\left(H \\right)} \\right)} = \\log{\\left(\\sin{\\left(e^{H} \\right)} \\right)}$"
      ],
      "text/plain": [
       "               ⎛   ⎛ H⎞⎞\n",
       "log(P(H)) = log⎝sin⎝ℯ ⎠⎠"
      ]
     },
     "metadata": {},
     "output_type": "display_data"
    },
    {
     "name": "stdout",
     "output_type": "stream",
     "text": [
      "\n",
      "\n"
     ]
    },
    {
     "data": {
      "text/plain": [
       "([[Eq(P(H), sin(exp(H))), 'premise'],\n",
       "  [Eq(Derivative(P(H), H), Derivative(sin(exp(H)), H)),\n",
       "   ['differentiate', 1, H]]],\n",
       " [Eq(Integral(P(H), H), Integral(sin(exp(H)), H)),\n",
       "  Eq(P(H)**2, P(H)*sin(exp(H))),\n",
       "  Eq(P(H)*exp(H), exp(H)*sin(exp(H))),\n",
       "  Eq(log(P(H)), log(sin(exp(H))))])"
      ]
     },
     "execution_count": 207,
     "metadata": {},
     "output_type": "execute_result"
    }
   ],
   "source": [
    "get_derivation_from_example(example, True, True)"
   ]
  },
  {
   "cell_type": "code",
   "execution_count": 208,
   "id": "19a5921b",
   "metadata": {},
   "outputs": [
    {
     "name": "stdout",
     "output_type": "stream",
     "text": [
      "1 \n",
      " premise\n"
     ]
    },
    {
     "data": {
      "image/png": "[encoded data removed]",
      "text/latex": [
       "$\\displaystyle P{\\left(H \\right)} = \\sin{\\left(e^{H} \\right)}$"
      ],
      "text/plain": [
       "          ⎛ H⎞\n",
       "P(H) = sin⎝ℯ ⎠"
      ]
     },
     "metadata": {},
     "output_type": "display_data"
    },
    {
     "name": "stdout",
     "output_type": "stream",
     "text": [
      "\n",
      "\n",
      "2 \n",
      " ['times', 1, P(H)]\n"
     ]
    },
    {
     "data": {
      "image/png": "[encoded data removed]",
      "text/latex": [
       "$\\displaystyle P^{2}{\\left(H \\right)} = P{\\left(H \\right)} \\sin{\\left(e^{H} \\right)}$"
      ],
      "text/plain": [
       " 2              ⎛ H⎞\n",
       "P (H) = P(H)⋅sin⎝ℯ ⎠"
      ]
     },
     "metadata": {},
     "output_type": "display_data"
    },
    {
     "name": "stdout",
     "output_type": "stream",
     "text": [
      "\n",
      "\n"
     ]
    },
    {
     "data": {
      "image/png": "[encoded data removed]",
      "text/latex": [
       "$\\displaystyle P{\\left(H \\right)} e^{H} = e^{H} \\sin{\\left(e^{H} \\right)}$"
      ],
      "text/plain": [
       "      H    H    ⎛ H⎞\n",
       "P(H)⋅ℯ  = ℯ ⋅sin⎝ℯ ⎠"
      ]
     },
     "metadata": {},
     "output_type": "display_data"
    },
    {
     "data": {
      "image/png": "[encoded data removed]",
      "text/latex": [
       "$\\displaystyle \\int P{\\left(H \\right)}\\, dH = \\int \\sin{\\left(e^{H} \\right)}\\, dH$"
      ],
      "text/plain": [
       "            ⌠           \n",
       "⌠           ⎮    ⎛ H⎞   \n",
       "⎮ P(H) dH = ⎮ sin⎝ℯ ⎠ dH\n",
       "⌡           ⌡           "
      ]
     },
     "metadata": {},
     "output_type": "display_data"
    },
    {
     "data": {
      "image/png": "[encoded data removed]",
      "text/latex": [
       "$\\displaystyle \\log{\\left(P{\\left(H \\right)} \\right)} = \\log{\\left(\\sin{\\left(e^{H} \\right)} \\right)}$"
      ],
      "text/plain": [
       "               ⎛   ⎛ H⎞⎞\n",
       "log(P(H)) = log⎝sin⎝ℯ ⎠⎠"
      ]
     },
     "metadata": {},
     "output_type": "display_data"
    },
    {
     "data": {
      "image/png": "[encoded data removed]",
      "text/latex": [
       "$\\displaystyle \\frac{d}{d H} P{\\left(H \\right)} = \\frac{d}{d H} \\sin{\\left(e^{H} \\right)}$"
      ],
      "text/plain": [
       "d          d ⎛   ⎛ H⎞⎞\n",
       "──(P(H)) = ──⎝sin⎝ℯ ⎠⎠\n",
       "dH         dH         "
      ]
     },
     "metadata": {},
     "output_type": "display_data"
    },
    {
     "name": "stdout",
     "output_type": "stream",
     "text": [
      "\n",
      "\n"
     ]
    },
    {
     "data": {
      "text/plain": [
       "([[Eq(P(H), sin(exp(H))), 'premise'],\n",
       "  [Eq(P(H)**2, P(H)*sin(exp(H))), ['times', 1, P(H)]]],\n",
       " [Eq(P(H)*exp(H), exp(H)*sin(exp(H))),\n",
       "  Eq(Integral(P(H), H), Integral(sin(exp(H)), H)),\n",
       "  Eq(log(P(H)), log(sin(exp(H)))),\n",
       "  Eq(Derivative(P(H), H), Derivative(sin(exp(H)), H))])"
      ]
     },
     "execution_count": 208,
     "metadata": {},
     "output_type": "execute_result"
    }
   ],
   "source": [
    "get_derivation_from_example(op_swap[-1], True, True)"
   ]
  },
  {
   "cell_type": "code",
   "execution_count": null,
   "id": "69b31081",
   "metadata": {},
   "outputs": [],
   "source": []
  }
 ],
 "metadata": {
  "kernelspec": {
   "display_name": "Python 3 (ipykernel)",
   "language": "python",
   "name": "python3"
  },
  "language_info": {
   "codemirror_mode": {
    "name": "ipython",
    "version": 3
   },
   "file_extension": ".py",
   "mimetype": "text/x-python",
   "name": "python",
   "nbconvert_exporter": "python",
   "pygments_lexer": "ipython3",
   "version": "3.9.12"
  }
 },
 "nbformat": 4,
 "nbformat_minor": 5
}
